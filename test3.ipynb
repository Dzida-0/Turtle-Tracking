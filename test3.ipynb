{
 "cells": [
  {
   "cell_type": "code",
   "execution_count": 1,
   "metadata": {
    "collapsed": true
   },
   "outputs": [],
   "source": [
    "from FileOperation import FileOperation\n",
    "from DowloadTurtles import DownloadTurtles"
   ]
  },
  {
   "cell_type": "code",
   "execution_count": 2,
   "outputs": [],
   "source": [
    "\n",
    "\n",
    "\n",
    "d = DownloadTurtles()\n",
    "d.download_all_turtles_info()\n",
    "e = d.get_possible_turtles()\n"
   ],
   "metadata": {
    "collapsed": false
   }
  },
  {
   "cell_type": "code",
   "execution_count": 3,
   "outputs": [],
   "source": [
    "f = FileOperation()\n",
    "f.if_exist()\n"
   ],
   "metadata": {
    "collapsed": false
   }
  },
  {
   "cell_type": "code",
   "execution_count": 4,
   "outputs": [
    {
     "data": {
      "text/plain": "      id       name       species    last_move_datetime distance_from_release  \\\n0      1     Mojito     Hawksbill  2023-04-09T16:36:51Z            5468629.51   \n1      2   Caroline    Loggerhead  2023-07-05T07:49:09Z            7002241.24   \n2      3     Bortie    Loggerhead  2021-07-10T08:24:34Z            6761253.84   \n3      4  Euphorbia    Loggerhead  2021-08-12T07:51:58Z            5166936.18   \n4      5       Mr T    Loggerhead  2021-06-25T22:17:37Z            5392055.97   \n..   ...        ...           ...                   ...                   ...   \n371  378       Jupa  Green turtle  2024-11-14T09:00:23Z             738001.51   \n372  379    Juanita  Green turtle  2024-11-14T08:10:27Z             805071.01   \n373  380    Mai Tai  Green turtle  2024-11-14T11:02:16Z             634384.82   \n374  381      Pesto  Green turtle  2024-11-14T10:24:16Z             711097.57   \n375  382      Briar  Green turtle  2024-11-14T09:24:12Z              893883.4   \n\n    avg_speed_from_release  time_from_last_move  time_from_release  \\\n0                     0.11         5.056192e+07          231413734   \n1                     0.13         4.307679e+07          230222134   \n2                     0.25         1.057147e+08          202228534   \n3                     0.21         1.028654e+08          189451894   \n4                     0.29         1.069607e+08          174402454   \n..                     ...                  ...                ...   \n371                   0.63         4.531617e+04            4286079   \n372                   0.68         4.831218e+04            4286079   \n373                   0.54         3.800320e+04            4286079   \n374                    0.6         4.028321e+04            4286079   \n375                   0.76         4.388723e+04            4286079   \n\n     time_tracked                                        description  \\\n0       180851811  Mojito (aka Moji) is an adult hawksbill sea tu...   \n1       187145349  An adult female loggerhead sea turtle to be re...   \n2        96513874  Bortie is an adult female loggerhead sea turtl...   \n3        86586478  Euphorbia is an adult female loggerhead sea tu...   \n4        67441777  A magnificent adult male loggerhead sea turtle...   \n..            ...                                                ...   \n371       4240763  Jupa is an adult female green sea turtle relea...   \n372       4237767  Juanita is an adult female green sea turtle re...   \n373       4248076  Mai Tai is an adult female green sea turtle re...   \n374       4245796  An adult female green sea turtle released with...   \n375       4242192  Briar is an adult female green sea turtle rele...   \n\n                                               project  \\\n0    Eastern Caribbean Hawksbill Tracking & Conserv...   \n1     Tracking Loggerheads from the Archie Carr Refuge   \n2           Tracking Turtles from Florida's Gulf Coast   \n3            Rehabilitated Sea Turtle Tracking Project   \n4            Rehabilitated Sea Turtle Tracking Project   \n..                                                 ...   \n371             Tortuguero Sea Turtle Tracking Project   \n372             Tortuguero Sea Turtle Tracking Project   \n373             Tortuguero Sea Turtle Tracking Project   \n374             Tortuguero Sea Turtle Tracking Project   \n375             Tortuguero Sea Turtle Tracking Project   \n\n                                             biography  \n0    Is it time to race already?? **Yawn** Sorry I’...  \n1    Sweet Carolina, bah bah bah! Yup. That’s me. I...  \n2    Hi guys! My name is Bortie. I’m going to make ...  \n3                                                 None  \n4                                                 None  \n..                                                 ...  \n371                                               None  \n372                                               None  \n373                                               None  \n374                                               None  \n375                                               None  \n\n[376 rows x 12 columns]",
      "text/html": "<div>\n<style scoped>\n    .dataframe tbody tr th:only-of-type {\n        vertical-align: middle;\n    }\n\n    .dataframe tbody tr th {\n        vertical-align: top;\n    }\n\n    .dataframe thead th {\n        text-align: right;\n    }\n</style>\n<table border=\"1\" class=\"dataframe\">\n  <thead>\n    <tr style=\"text-align: right;\">\n      <th></th>\n      <th>id</th>\n      <th>name</th>\n      <th>species</th>\n      <th>last_move_datetime</th>\n      <th>distance_from_release</th>\n      <th>avg_speed_from_release</th>\n      <th>time_from_last_move</th>\n      <th>time_from_release</th>\n      <th>time_tracked</th>\n      <th>description</th>\n      <th>project</th>\n      <th>biography</th>\n    </tr>\n  </thead>\n  <tbody>\n    <tr>\n      <th>0</th>\n      <td>1</td>\n      <td>Mojito</td>\n      <td>Hawksbill</td>\n      <td>2023-04-09T16:36:51Z</td>\n      <td>5468629.51</td>\n      <td>0.11</td>\n      <td>5.056192e+07</td>\n      <td>231413734</td>\n      <td>180851811</td>\n      <td>Mojito (aka Moji) is an adult hawksbill sea tu...</td>\n      <td>Eastern Caribbean Hawksbill Tracking &amp; Conserv...</td>\n      <td>Is it time to race already?? **Yawn** Sorry I’...</td>\n    </tr>\n    <tr>\n      <th>1</th>\n      <td>2</td>\n      <td>Caroline</td>\n      <td>Loggerhead</td>\n      <td>2023-07-05T07:49:09Z</td>\n      <td>7002241.24</td>\n      <td>0.13</td>\n      <td>4.307679e+07</td>\n      <td>230222134</td>\n      <td>187145349</td>\n      <td>An adult female loggerhead sea turtle to be re...</td>\n      <td>Tracking Loggerheads from the Archie Carr Refuge</td>\n      <td>Sweet Carolina, bah bah bah! Yup. That’s me. I...</td>\n    </tr>\n    <tr>\n      <th>2</th>\n      <td>3</td>\n      <td>Bortie</td>\n      <td>Loggerhead</td>\n      <td>2021-07-10T08:24:34Z</td>\n      <td>6761253.84</td>\n      <td>0.25</td>\n      <td>1.057147e+08</td>\n      <td>202228534</td>\n      <td>96513874</td>\n      <td>Bortie is an adult female loggerhead sea turtl...</td>\n      <td>Tracking Turtles from Florida's Gulf Coast</td>\n      <td>Hi guys! My name is Bortie. I’m going to make ...</td>\n    </tr>\n    <tr>\n      <th>3</th>\n      <td>4</td>\n      <td>Euphorbia</td>\n      <td>Loggerhead</td>\n      <td>2021-08-12T07:51:58Z</td>\n      <td>5166936.18</td>\n      <td>0.21</td>\n      <td>1.028654e+08</td>\n      <td>189451894</td>\n      <td>86586478</td>\n      <td>Euphorbia is an adult female loggerhead sea tu...</td>\n      <td>Rehabilitated Sea Turtle Tracking Project</td>\n      <td>None</td>\n    </tr>\n    <tr>\n      <th>4</th>\n      <td>5</td>\n      <td>Mr T</td>\n      <td>Loggerhead</td>\n      <td>2021-06-25T22:17:37Z</td>\n      <td>5392055.97</td>\n      <td>0.29</td>\n      <td>1.069607e+08</td>\n      <td>174402454</td>\n      <td>67441777</td>\n      <td>A magnificent adult male loggerhead sea turtle...</td>\n      <td>Rehabilitated Sea Turtle Tracking Project</td>\n      <td>None</td>\n    </tr>\n    <tr>\n      <th>...</th>\n      <td>...</td>\n      <td>...</td>\n      <td>...</td>\n      <td>...</td>\n      <td>...</td>\n      <td>...</td>\n      <td>...</td>\n      <td>...</td>\n      <td>...</td>\n      <td>...</td>\n      <td>...</td>\n      <td>...</td>\n    </tr>\n    <tr>\n      <th>371</th>\n      <td>378</td>\n      <td>Jupa</td>\n      <td>Green turtle</td>\n      <td>2024-11-14T09:00:23Z</td>\n      <td>738001.51</td>\n      <td>0.63</td>\n      <td>4.531617e+04</td>\n      <td>4286079</td>\n      <td>4240763</td>\n      <td>Jupa is an adult female green sea turtle relea...</td>\n      <td>Tortuguero Sea Turtle Tracking Project</td>\n      <td>None</td>\n    </tr>\n    <tr>\n      <th>372</th>\n      <td>379</td>\n      <td>Juanita</td>\n      <td>Green turtle</td>\n      <td>2024-11-14T08:10:27Z</td>\n      <td>805071.01</td>\n      <td>0.68</td>\n      <td>4.831218e+04</td>\n      <td>4286079</td>\n      <td>4237767</td>\n      <td>Juanita is an adult female green sea turtle re...</td>\n      <td>Tortuguero Sea Turtle Tracking Project</td>\n      <td>None</td>\n    </tr>\n    <tr>\n      <th>373</th>\n      <td>380</td>\n      <td>Mai Tai</td>\n      <td>Green turtle</td>\n      <td>2024-11-14T11:02:16Z</td>\n      <td>634384.82</td>\n      <td>0.54</td>\n      <td>3.800320e+04</td>\n      <td>4286079</td>\n      <td>4248076</td>\n      <td>Mai Tai is an adult female green sea turtle re...</td>\n      <td>Tortuguero Sea Turtle Tracking Project</td>\n      <td>None</td>\n    </tr>\n    <tr>\n      <th>374</th>\n      <td>381</td>\n      <td>Pesto</td>\n      <td>Green turtle</td>\n      <td>2024-11-14T10:24:16Z</td>\n      <td>711097.57</td>\n      <td>0.6</td>\n      <td>4.028321e+04</td>\n      <td>4286079</td>\n      <td>4245796</td>\n      <td>An adult female green sea turtle released with...</td>\n      <td>Tortuguero Sea Turtle Tracking Project</td>\n      <td>None</td>\n    </tr>\n    <tr>\n      <th>375</th>\n      <td>382</td>\n      <td>Briar</td>\n      <td>Green turtle</td>\n      <td>2024-11-14T09:24:12Z</td>\n      <td>893883.4</td>\n      <td>0.76</td>\n      <td>4.388723e+04</td>\n      <td>4286079</td>\n      <td>4242192</td>\n      <td>Briar is an adult female green sea turtle rele...</td>\n      <td>Tortuguero Sea Turtle Tracking Project</td>\n      <td>None</td>\n    </tr>\n  </tbody>\n</table>\n<p>376 rows × 12 columns</p>\n</div>"
     },
     "execution_count": 4,
     "metadata": {},
     "output_type": "execute_result"
    }
   ],
   "source": [
    "r = d.test()\n",
    "r"
   ],
   "metadata": {
    "collapsed": false
   }
  },
  {
   "cell_type": "code",
   "execution_count": 5,
   "outputs": [
    {
     "ename": "IntegrityError",
     "evalue": "UNIQUE constraint failed: Turtles.id",
     "output_type": "error",
     "traceback": [
      "\u001B[1;31m---------------------------------------------------------------------------\u001B[0m",
      "\u001B[1;31mIntegrityError\u001B[0m                            Traceback (most recent call last)",
      "Cell \u001B[1;32mIn[5], line 2\u001B[0m\n\u001B[0;32m      1\u001B[0m \u001B[38;5;28;01mfor\u001B[39;00m  i \u001B[38;5;129;01min\u001B[39;00m r\u001B[38;5;241m.\u001B[39mvalues:\n\u001B[1;32m----> 2\u001B[0m     \u001B[43mf\u001B[49m\u001B[38;5;241;43m.\u001B[39;49m\u001B[43minsert_turtle\u001B[49m\u001B[43m(\u001B[49m\u001B[43mi\u001B[49m\u001B[43m)\u001B[49m\n",
      "File \u001B[1;32m~\\Desktop\\Projects\\Turtle-Tracking\\FileOperation.py:44\u001B[0m, in \u001B[0;36mFileOperation.insert_turtle\u001B[1;34m(self, turtle)\u001B[0m\n\u001B[0;32m     42\u001B[0m conn \u001B[38;5;241m=\u001B[39m sqlite3\u001B[38;5;241m.\u001B[39mconnect(\u001B[38;5;28mself\u001B[39m\u001B[38;5;241m.\u001B[39mpath)\n\u001B[0;32m     43\u001B[0m cursor \u001B[38;5;241m=\u001B[39m conn\u001B[38;5;241m.\u001B[39mcursor()\n\u001B[1;32m---> 44\u001B[0m \u001B[43mcursor\u001B[49m\u001B[38;5;241;43m.\u001B[39;49m\u001B[43mexecute\u001B[49m\u001B[43m(\u001B[49m\n\u001B[0;32m     45\u001B[0m \u001B[38;5;250;43m    \u001B[39;49m\u001B[38;5;124;43;03m\"\"\"INSERT INTO Turtles (id,name,species,last_move_datetime,distance_from_release,avg_speed_from_release,\u001B[39;49;00m\n\u001B[0;32m     46\u001B[0m \u001B[38;5;124;43;03m    time_from_release,time_from_last_move,time_tracked,description,project,biography) VALUES (?, ?,?, ?,?, ?,?, ?,?, ?,?, ?)\"\"\"\u001B[39;49;00m\u001B[43m,\u001B[49m\n\u001B[0;32m     47\u001B[0m \u001B[43m    \u001B[49m\u001B[43mturtle\u001B[49m\u001B[43m,\u001B[49m\n\u001B[0;32m     48\u001B[0m \u001B[43m\u001B[49m\u001B[43m)\u001B[49m\n\u001B[0;32m     49\u001B[0m conn\u001B[38;5;241m.\u001B[39mcommit()\n\u001B[0;32m     50\u001B[0m conn\u001B[38;5;241m.\u001B[39mclose()\n",
      "\u001B[1;31mIntegrityError\u001B[0m: UNIQUE constraint failed: Turtles.id"
     ]
    }
   ],
   "source": [
    "for  i in r.values:\n",
    "    f.insert_turtle(i)"
   ],
   "metadata": {
    "collapsed": false
   }
  },
  {
   "cell_type": "code",
   "execution_count": null,
   "outputs": [],
   "source": [],
   "metadata": {
    "collapsed": false
   }
  }
 ],
 "metadata": {
  "kernelspec": {
   "display_name": "Python 3",
   "language": "python",
   "name": "python3"
  },
  "language_info": {
   "codemirror_mode": {
    "name": "ipython",
    "version": 2
   },
   "file_extension": ".py",
   "mimetype": "text/x-python",
   "name": "python",
   "nbconvert_exporter": "python",
   "pygments_lexer": "ipython2",
   "version": "2.7.6"
  }
 },
 "nbformat": 4,
 "nbformat_minor": 0
}
