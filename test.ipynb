{
 "cells": [
  {
   "cell_type": "code",
   "execution_count": 1,
   "metadata": {
    "collapsed": true
   },
   "outputs": [],
   "source": [
    "from DowloadTurtles import DownloadTurtles\n",
    "from Turtle import Turtle"
   ]
  },
  {
   "cell_type": "code",
   "execution_count": 2,
   "outputs": [
    {
     "name": "stderr",
     "output_type": "stream",
     "text": [
      "ERROR:root:Request error occurred: HTTPSConnectionPool(host='stc.mapotic.com', port=443): Read timed out. (read timeout=5)\n"
     ]
    },
    {
     "ename": "TypeError",
     "evalue": "DownloadTurtles.download_turtle_data() missing 1 required positional argument: 'turtle_id'",
     "output_type": "error",
     "traceback": [
      "\u001B[1;31m---------------------------------------------------------------------------\u001B[0m",
      "\u001B[1;31mTypeError\u001B[0m                                 Traceback (most recent call last)",
      "Cell \u001B[1;32mIn[2], line 5\u001B[0m\n\u001B[0;32m      3\u001B[0m e \u001B[38;5;241m=\u001B[39m d\u001B[38;5;241m.\u001B[39mget_possible_turtles()\n\u001B[0;32m      4\u001B[0m df \u001B[38;5;241m=\u001B[39m d\u001B[38;5;241m.\u001B[39mtest()\n\u001B[1;32m----> 5\u001B[0m \u001B[43md\u001B[49m\u001B[38;5;241;43m.\u001B[39;49m\u001B[43mdownload_turtle_data\u001B[49m\u001B[43m(\u001B[49m\u001B[43m)\u001B[49m\n\u001B[0;32m      6\u001B[0m tutle_list \u001B[38;5;241m=\u001B[39m []\n\u001B[0;32m      7\u001B[0m \u001B[38;5;28;01mfor\u001B[39;00m i \u001B[38;5;129;01min\u001B[39;00m \u001B[38;5;28mrange\u001B[39m(\u001B[38;5;241m10\u001B[39m,\u001B[38;5;241m200\u001B[39m,\u001B[38;5;241m5\u001B[39m):\n",
      "\u001B[1;31mTypeError\u001B[0m: DownloadTurtles.download_turtle_data() missing 1 required positional argument: 'turtle_id'"
     ]
    }
   ],
   "source": [
    "d = DownloadTurtles()\n",
    "d.download_all_turtles_info()\n",
    "e = d.get_possible_turtles()\n",
    "df = d.test()\n",
    "d.download_turtle_data()\n",
    "tutle_list = []\n",
    "for i in range(10,200,5):\n",
    "    d.download_turtle_data(i)\n",
    "    tutle_list.append(Turtle(d.get_last_turtle_data()))\n"
   ],
   "metadata": {
    "collapsed": false
   }
  },
  {
   "cell_type": "code",
   "execution_count": null,
   "outputs": [],
   "source": [],
   "metadata": {
    "collapsed": false
   }
  },
  {
   "cell_type": "code",
   "execution_count": null,
   "outputs": [],
   "source": [],
   "metadata": {
    "collapsed": false
   }
  },
  {
   "cell_type": "code",
   "execution_count": null,
   "outputs": [],
   "source": [
    "def des(description):\n",
    "    adult = True\n",
    "    gender = ''\n",
    "    description = description.iloc[0].split('. ')\n",
    "    for des in description:\n",
    "            if des.count('sub - adult') : adult = False\n",
    "            if des.count('female') :gender = 'F'\n",
    "            if des.count('She') :gender = 'F'\n",
    "            if des.count('male') :gender = 'M'\n",
    "            if des.count('He') :gender = 'M'\n",
    "            if des.count('cm'): print('cm',des)\n",
    "            if des.count('inc'): print('inc',des)\n",
    "            if des.count('kg'): print('kg',des)\n",
    "            if des.count('pound'): print('pound',des)\n",
    "            print('ad',adult)\n"
   ],
   "metadata": {
    "collapsed": false
   }
  },
  {
   "cell_type": "code",
   "execution_count": null,
   "outputs": [],
   "source": [
    "df"
   ],
   "metadata": {
    "collapsed": false
   }
  },
  {
   "cell_type": "code",
   "execution_count": null,
   "outputs": [],
   "source": [
    "df.iloc[3]['description']"
   ],
   "metadata": {
    "collapsed": false
   }
  },
  {
   "cell_type": "code",
   "execution_count": null,
   "outputs": [],
   "source": [
    "des(w)"
   ],
   "metadata": {
    "collapsed": false
   }
  },
  {
   "cell_type": "code",
   "execution_count": null,
   "outputs": [],
   "source": [],
   "metadata": {
    "collapsed": false
   }
  }
 ],
 "metadata": {
  "kernelspec": {
   "display_name": "Python 3",
   "language": "python",
   "name": "python3"
  },
  "language_info": {
   "codemirror_mode": {
    "name": "ipython",
    "version": 2
   },
   "file_extension": ".py",
   "mimetype": "text/x-python",
   "name": "python",
   "nbconvert_exporter": "python",
   "pygments_lexer": "ipython2",
   "version": "2.7.6"
  }
 },
 "nbformat": 4,
 "nbformat_minor": 0
}
