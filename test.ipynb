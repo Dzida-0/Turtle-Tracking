{
 "cells": [
  {
   "cell_type": "code",
   "execution_count": 1,
   "metadata": {
    "collapsed": true
   },
   "outputs": [],
   "source": [
    "from DowloadTurtles import DownloadTurtles\n",
    "from Turtle import Turtle"
   ]
  },
  {
   "cell_type": "code",
   "execution_count": 8,
   "outputs": [
    {
     "data": {
      "text/plain": "True"
     },
     "execution_count": 8,
     "metadata": {},
     "output_type": "execute_result"
    }
   ],
   "source": [
    "d = DownloadTurtles()\n",
    "d.download_all_turtles_info()\n",
    "e = d.get_possible_turtles()\n",
    "df = d.test()\n",
    "d.download_turtle_data()\n",
    "tutle_list = []\n",
    "for i in range(10,200,5):\n",
    "    d.download_turtle_data(i)\n",
    "    tutle_list.append(Turtle(d.get_last_turtle_data()))\n"
   ],
   "metadata": {
    "collapsed": false
   }
  },
  {
   "cell_type": "code",
   "execution_count": 9,
   "outputs": [],
   "source": [],
   "metadata": {
    "collapsed": false
   }
  },
  {
   "cell_type": "code",
   "execution_count": 10,
   "outputs": [
    {
     "data": {
      "text/plain": "[     latitude  longitude  distance  duration direction                   time\n 0    21.71891  -86.97587    9.6357   23.4622         E  /Date(1569918082000)/\n 1    21.67053  -87.05325    6.1628  231.2347         W  /Date(1569833618000)/\n 2    21.70408  -87.00577   17.3133   56.0250         W  /Date(1569001173000)/\n 3    21.61053  -86.87184    5.2427   63.3472         E  /Date(1568799483000)/\n 4    21.64299  -86.90863    8.9233   32.9272         S  /Date(1568571433000)/\n ..        ...        ...       ...       ...       ...                    ...\n 360  10.48509  -83.46190    4.8261   23.8505         N  /Date(1533800222000)/\n 361  10.45000  -83.43592   13.1790   24.3938         S  /Date(1533714360000)/\n 362  10.54982  -83.50092    4.1518   23.9525         N  /Date(1533626542000)/\n 363  10.51532  -83.48639    4.7133   24.4202         S  /Date(1533540313000)/\n 364  10.55250  -83.50710       NaN       NaN         N  /Date(1533452400000)/\n \n [365 rows x 6 columns],\n    id      name     species    last_move_datetime distance_from_release  \\\n 1   2  Caroline  Loggerhead  2023-07-05T07:49:09Z            7002241.24   \n \n   avg_speed_from_release  time_from_last_move  time_from_release  \\\n 1                   0.13          42707675.33          229853024   \n \n    time_tracked                                        description  \\\n 1     187145349  An adult female loggerhead sea turtle to be re...   \n \n                                             project  \\\n 1  Tracking Loggerheads from the Archie Carr Refuge   \n \n                                            biography  \n 1  Sweet Carolina, bah bah bah! Yup. That’s me. I...  ]"
     },
     "execution_count": 10,
     "metadata": {},
     "output_type": "execute_result"
    }
   ],
   "source": [],
   "metadata": {
    "collapsed": false
   }
  },
  {
   "cell_type": "code",
   "execution_count": 11,
   "outputs": [],
   "source": [
    "def des(description):\n",
    "    adult = True\n",
    "    gender = ''\n",
    "    description = description.iloc[0].split('. ')\n",
    "    for des in description:\n",
    "            if des.count('sub - adult') : adult = False\n",
    "            if des.count('female') :gender = 'F'\n",
    "            if des.count('She') :gender = 'F'\n",
    "            if des.count('male') :gender = 'M'\n",
    "            if des.count('He') :gender = 'M'\n",
    "            if des.count('cm'): print('cm',des)\n",
    "            if des.count('inc'): print('inc',des)\n",
    "            if des.count('kg'): print('kg',des)\n",
    "            if des.count('pound'): print('pound',des)\n",
    "            print('ad',adult)\n"
   ],
   "metadata": {
    "collapsed": false
   }
  },
  {
   "cell_type": "code",
   "execution_count": 12,
   "outputs": [
    {
     "data": {
      "text/plain": "      id       name       species    last_move_datetime distance_from_release  \\\n0      1     Mojito     Hawksbill  2023-04-09T16:36:51Z            5468629.51   \n1      2   Caroline    Loggerhead  2023-07-05T07:49:09Z            7002241.24   \n2      3     Bortie    Loggerhead  2021-07-10T08:24:34Z            6761253.84   \n3      4  Euphorbia    Loggerhead  2021-08-12T07:51:58Z            5166936.18   \n4      5       Mr T    Loggerhead  2021-06-25T22:17:37Z            5392055.97   \n..   ...        ...           ...                   ...                   ...   \n371  378       Jupa  Green turtle  2024-11-10T08:34:34Z             717196.01   \n372  379    Juanita  Green turtle  2024-11-10T09:08:10Z             797530.54   \n373  380    Mai Tai  Green turtle  2024-11-10T09:29:22Z              614284.5   \n374  381      Pesto  Green turtle  2024-11-10T08:04:58Z             679907.21   \n375  382      Briar  Green turtle  2024-11-10T08:04:47Z             868472.72   \n\n    avg_speed_from_release  time_from_last_move  time_from_release  \\\n0                     0.11         5.019281e+07          231044624   \n1                     0.13         4.270768e+07          229853024   \n2                     0.25         1.053456e+08          201859424   \n3                     0.21         1.024963e+08          189082784   \n4                     0.29         1.065916e+08          174033344   \n..                     ...                  ...                ...   \n371                   0.66         2.335534e+04            3916969   \n372                   0.74         2.133936e+04            3916969   \n373                   0.57         2.006738e+04            3916969   \n374                   0.63         2.513139e+04            3916969   \n375                    0.8         2.514241e+04            3916969   \n\n     time_tracked                                        description  \\\n0       180851811  Mojito (aka Moji) is an adult hawksbill sea tu...   \n1       187145349  An adult female loggerhead sea turtle to be re...   \n2        96513874  Bortie is an adult female loggerhead sea turtl...   \n3        86586478  Euphorbia is an adult female loggerhead sea tu...   \n4        67441777  A magnificent adult male loggerhead sea turtle...   \n..            ...                                                ...   \n371       3893614  Jupa is an adult female green sea turtle relea...   \n372       3895630  Juanita is an adult female green sea turtle re...   \n373       3896902  Mai Tai is an adult female green sea turtle re...   \n374       3891838  An adult female green sea turtle released with...   \n375       3891827  Briar is an adult female green sea turtle rele...   \n\n                                               project  \\\n0    Eastern Caribbean Hawksbill Tracking & Conserv...   \n1     Tracking Loggerheads from the Archie Carr Refuge   \n2           Tracking Turtles from Florida's Gulf Coast   \n3            Rehabilitated Sea Turtle Tracking Project   \n4            Rehabilitated Sea Turtle Tracking Project   \n..                                                 ...   \n371             Tortuguero Sea Turtle Tracking Project   \n372             Tortuguero Sea Turtle Tracking Project   \n373             Tortuguero Sea Turtle Tracking Project   \n374             Tortuguero Sea Turtle Tracking Project   \n375             Tortuguero Sea Turtle Tracking Project   \n\n                                             biography  \n0    Is it time to race already?? **Yawn** Sorry I’...  \n1    Sweet Carolina, bah bah bah! Yup. That’s me. I...  \n2    Hi guys! My name is Bortie. I’m going to make ...  \n3                                                 None  \n4                                                 None  \n..                                                 ...  \n371                                               None  \n372                                               None  \n373                                               None  \n374                                               None  \n375                                               None  \n\n[376 rows x 12 columns]",
      "text/html": "<div>\n<style scoped>\n    .dataframe tbody tr th:only-of-type {\n        vertical-align: middle;\n    }\n\n    .dataframe tbody tr th {\n        vertical-align: top;\n    }\n\n    .dataframe thead th {\n        text-align: right;\n    }\n</style>\n<table border=\"1\" class=\"dataframe\">\n  <thead>\n    <tr style=\"text-align: right;\">\n      <th></th>\n      <th>id</th>\n      <th>name</th>\n      <th>species</th>\n      <th>last_move_datetime</th>\n      <th>distance_from_release</th>\n      <th>avg_speed_from_release</th>\n      <th>time_from_last_move</th>\n      <th>time_from_release</th>\n      <th>time_tracked</th>\n      <th>description</th>\n      <th>project</th>\n      <th>biography</th>\n    </tr>\n  </thead>\n  <tbody>\n    <tr>\n      <th>0</th>\n      <td>1</td>\n      <td>Mojito</td>\n      <td>Hawksbill</td>\n      <td>2023-04-09T16:36:51Z</td>\n      <td>5468629.51</td>\n      <td>0.11</td>\n      <td>5.019281e+07</td>\n      <td>231044624</td>\n      <td>180851811</td>\n      <td>Mojito (aka Moji) is an adult hawksbill sea tu...</td>\n      <td>Eastern Caribbean Hawksbill Tracking &amp; Conserv...</td>\n      <td>Is it time to race already?? **Yawn** Sorry I’...</td>\n    </tr>\n    <tr>\n      <th>1</th>\n      <td>2</td>\n      <td>Caroline</td>\n      <td>Loggerhead</td>\n      <td>2023-07-05T07:49:09Z</td>\n      <td>7002241.24</td>\n      <td>0.13</td>\n      <td>4.270768e+07</td>\n      <td>229853024</td>\n      <td>187145349</td>\n      <td>An adult female loggerhead sea turtle to be re...</td>\n      <td>Tracking Loggerheads from the Archie Carr Refuge</td>\n      <td>Sweet Carolina, bah bah bah! Yup. That’s me. I...</td>\n    </tr>\n    <tr>\n      <th>2</th>\n      <td>3</td>\n      <td>Bortie</td>\n      <td>Loggerhead</td>\n      <td>2021-07-10T08:24:34Z</td>\n      <td>6761253.84</td>\n      <td>0.25</td>\n      <td>1.053456e+08</td>\n      <td>201859424</td>\n      <td>96513874</td>\n      <td>Bortie is an adult female loggerhead sea turtl...</td>\n      <td>Tracking Turtles from Florida's Gulf Coast</td>\n      <td>Hi guys! My name is Bortie. I’m going to make ...</td>\n    </tr>\n    <tr>\n      <th>3</th>\n      <td>4</td>\n      <td>Euphorbia</td>\n      <td>Loggerhead</td>\n      <td>2021-08-12T07:51:58Z</td>\n      <td>5166936.18</td>\n      <td>0.21</td>\n      <td>1.024963e+08</td>\n      <td>189082784</td>\n      <td>86586478</td>\n      <td>Euphorbia is an adult female loggerhead sea tu...</td>\n      <td>Rehabilitated Sea Turtle Tracking Project</td>\n      <td>None</td>\n    </tr>\n    <tr>\n      <th>4</th>\n      <td>5</td>\n      <td>Mr T</td>\n      <td>Loggerhead</td>\n      <td>2021-06-25T22:17:37Z</td>\n      <td>5392055.97</td>\n      <td>0.29</td>\n      <td>1.065916e+08</td>\n      <td>174033344</td>\n      <td>67441777</td>\n      <td>A magnificent adult male loggerhead sea turtle...</td>\n      <td>Rehabilitated Sea Turtle Tracking Project</td>\n      <td>None</td>\n    </tr>\n    <tr>\n      <th>...</th>\n      <td>...</td>\n      <td>...</td>\n      <td>...</td>\n      <td>...</td>\n      <td>...</td>\n      <td>...</td>\n      <td>...</td>\n      <td>...</td>\n      <td>...</td>\n      <td>...</td>\n      <td>...</td>\n      <td>...</td>\n    </tr>\n    <tr>\n      <th>371</th>\n      <td>378</td>\n      <td>Jupa</td>\n      <td>Green turtle</td>\n      <td>2024-11-10T08:34:34Z</td>\n      <td>717196.01</td>\n      <td>0.66</td>\n      <td>2.335534e+04</td>\n      <td>3916969</td>\n      <td>3893614</td>\n      <td>Jupa is an adult female green sea turtle relea...</td>\n      <td>Tortuguero Sea Turtle Tracking Project</td>\n      <td>None</td>\n    </tr>\n    <tr>\n      <th>372</th>\n      <td>379</td>\n      <td>Juanita</td>\n      <td>Green turtle</td>\n      <td>2024-11-10T09:08:10Z</td>\n      <td>797530.54</td>\n      <td>0.74</td>\n      <td>2.133936e+04</td>\n      <td>3916969</td>\n      <td>3895630</td>\n      <td>Juanita is an adult female green sea turtle re...</td>\n      <td>Tortuguero Sea Turtle Tracking Project</td>\n      <td>None</td>\n    </tr>\n    <tr>\n      <th>373</th>\n      <td>380</td>\n      <td>Mai Tai</td>\n      <td>Green turtle</td>\n      <td>2024-11-10T09:29:22Z</td>\n      <td>614284.5</td>\n      <td>0.57</td>\n      <td>2.006738e+04</td>\n      <td>3916969</td>\n      <td>3896902</td>\n      <td>Mai Tai is an adult female green sea turtle re...</td>\n      <td>Tortuguero Sea Turtle Tracking Project</td>\n      <td>None</td>\n    </tr>\n    <tr>\n      <th>374</th>\n      <td>381</td>\n      <td>Pesto</td>\n      <td>Green turtle</td>\n      <td>2024-11-10T08:04:58Z</td>\n      <td>679907.21</td>\n      <td>0.63</td>\n      <td>2.513139e+04</td>\n      <td>3916969</td>\n      <td>3891838</td>\n      <td>An adult female green sea turtle released with...</td>\n      <td>Tortuguero Sea Turtle Tracking Project</td>\n      <td>None</td>\n    </tr>\n    <tr>\n      <th>375</th>\n      <td>382</td>\n      <td>Briar</td>\n      <td>Green turtle</td>\n      <td>2024-11-10T08:04:47Z</td>\n      <td>868472.72</td>\n      <td>0.8</td>\n      <td>2.514241e+04</td>\n      <td>3916969</td>\n      <td>3891827</td>\n      <td>Briar is an adult female green sea turtle rele...</td>\n      <td>Tortuguero Sea Turtle Tracking Project</td>\n      <td>None</td>\n    </tr>\n  </tbody>\n</table>\n<p>376 rows × 12 columns</p>\n</div>"
     },
     "execution_count": 12,
     "metadata": {},
     "output_type": "execute_result"
    }
   ],
   "source": [
    "df"
   ],
   "metadata": {
    "collapsed": false
   }
  },
  {
   "cell_type": "code",
   "execution_count": 18,
   "outputs": [
    {
     "data": {
      "text/plain": "'Euphorbia is an adult female loggerhead sea turtle released on November 13, 2018 from Gumbo Limbo Nature Center’s Sea Turtle Rehabilitation Facility. She was found wounded swimming in the intake canal of the Port Everglades power plant on April 3, 2018. Gumbo Limbo Rehabilitation Facility treated Euphorbia for multiple predator related injuries to her front flippers. After over six months of rehabilitation, Euphorbia has completely recovered from her injuries and is ready to return to the ocean. Euphorbia measured 90.7 cm straight carapace length and weighed 250 lbs upon release! Data © Gumbo Limbo Nature Center.'"
     },
     "execution_count": 18,
     "metadata": {},
     "output_type": "execute_result"
    }
   ],
   "source": [
    "df.iloc[3]['description']"
   ],
   "metadata": {
    "collapsed": false
   }
  },
  {
   "cell_type": "code",
   "execution_count": null,
   "outputs": [],
   "source": [
    "des(w)"
   ],
   "metadata": {
    "collapsed": false
   }
  },
  {
   "cell_type": "code",
   "execution_count": null,
   "outputs": [],
   "source": [],
   "metadata": {
    "collapsed": false
   }
  }
 ],
 "metadata": {
  "kernelspec": {
   "display_name": "Python 3",
   "language": "python",
   "name": "python3"
  },
  "language_info": {
   "codemirror_mode": {
    "name": "ipython",
    "version": 2
   },
   "file_extension": ".py",
   "mimetype": "text/x-python",
   "name": "python",
   "nbconvert_exporter": "python",
   "pygments_lexer": "ipython2",
   "version": "2.7.6"
  }
 },
 "nbformat": 4,
 "nbformat_minor": 0
}
