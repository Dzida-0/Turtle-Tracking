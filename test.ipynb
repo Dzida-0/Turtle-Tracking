{
 "cells": [
  {
   "cell_type": "code",
   "execution_count": 7,
   "metadata": {
    "collapsed": true
   },
   "outputs": [],
   "source": [
    "from DowloadTurtles import DownloadTurtles\n",
    "from Turtle import Turtle"
   ]
  },
  {
   "cell_type": "code",
   "execution_count": 8,
   "outputs": [
    {
     "data": {
      "text/plain": "True"
     },
     "execution_count": 8,
     "metadata": {},
     "output_type": "execute_result"
    }
   ],
   "source": [
    "d = DownloadTurtles()\n",
    "d.download_all_turtles_info()"
   ],
   "metadata": {
    "collapsed": false
   }
  },
  {
   "cell_type": "code",
   "execution_count": 9,
   "outputs": [],
   "source": [
    "e = d.get_possible_turtles()\n",
    "df = d.test()\n",
    "d.download_turtle_data(222)\n",
    "a = d.get_last_turtle_data()"
   ],
   "metadata": {
    "collapsed": false
   }
  },
  {
   "cell_type": "code",
   "execution_count": 10,
   "outputs": [
    {
     "data": {
      "text/plain": "[     latitude  longitude  distance  duration direction                   time\n 0    21.71891  -86.97587    9.6357   23.4622         E  /Date(1569918082000)/\n 1    21.67053  -87.05325    6.1628  231.2347         W  /Date(1569833618000)/\n 2    21.70408  -87.00577   17.3133   56.0250         W  /Date(1569001173000)/\n 3    21.61053  -86.87184    5.2427   63.3472         E  /Date(1568799483000)/\n 4    21.64299  -86.90863    8.9233   32.9272         S  /Date(1568571433000)/\n ..        ...        ...       ...       ...       ...                    ...\n 360  10.48509  -83.46190    4.8261   23.8505         N  /Date(1533800222000)/\n 361  10.45000  -83.43592   13.1790   24.3938         S  /Date(1533714360000)/\n 362  10.54982  -83.50092    4.1518   23.9525         N  /Date(1533626542000)/\n 363  10.51532  -83.48639    4.7133   24.4202         S  /Date(1533540313000)/\n 364  10.55250  -83.50710       NaN       NaN         N  /Date(1533452400000)/\n \n [365 rows x 6 columns],\n    id      name     species    last_move_datetime distance_from_release  \\\n 1   2  Caroline  Loggerhead  2023-07-05T07:49:09Z            7002241.24   \n \n   avg_speed_from_release  time_from_last_move  time_from_release  \\\n 1                   0.13           42688624.1          229833973   \n \n    time_tracked                                        description  \\\n 1     187145349  An adult female loggerhead sea turtle to be re...   \n \n                                             project  \\\n 1  Tracking Loggerheads from the Archie Carr Refuge   \n \n                                            biography  \n 1  Sweet Carolina, bah bah bah! Yup. That’s me. I...  ]"
     },
     "execution_count": 10,
     "metadata": {},
     "output_type": "execute_result"
    }
   ],
   "source": [
    "a"
   ],
   "metadata": {
    "collapsed": false
   }
  },
  {
   "cell_type": "code",
   "execution_count": 30,
   "outputs": [],
   "source": [
    "def des(description):\n",
    "    description = description.iloc[0].split('. ')\n",
    "    for des in description:\n",
    "            adult = False if des.count('sub - adult') else True\n",
    "            if des.count('cm'): print('cm',des)\n",
    "            if des.count('inc'): print('inc',des)\n",
    "            if des.count('kg'): print('kg',des)\n",
    "            if des.count('pound'): print('pound',des)\n",
    "            print('ad',adult)\n"
   ],
   "metadata": {
    "collapsed": false
   }
  },
  {
   "cell_type": "code",
   "execution_count": 18,
   "outputs": [],
   "source": [
    "d.download_turtle_data(222)\n",
    "a = d.get_last_turtle_data()\n",
    "w = a[1]['description']"
   ],
   "metadata": {
    "collapsed": false
   }
  },
  {
   "cell_type": "code",
   "execution_count": 27,
   "outputs": [
    {
     "data": {
      "text/plain": "'An adult female loggerhead sea turtle to be released with a satellite transmitter on July 30, 2017 from the Archie Carr National Wildlife Refuge, Florida. She measured 89.0 cm curved carapace (shell) length and 84.2 cm curved carapace width. Caroline is taking part in the 2017 Tour de Turtles and was named by her sponsor, Carolina Skiff.'"
     },
     "execution_count": 27,
     "metadata": {},
     "output_type": "execute_result"
    }
   ],
   "source": [
    "w.iloc[0]"
   ],
   "metadata": {
    "collapsed": false
   }
  },
  {
   "cell_type": "code",
   "execution_count": 31,
   "outputs": [
    {
     "name": "stdout",
     "output_type": "stream",
     "text": [
      "ad True\n",
      "cm She measured 89.0 cm curved carapace (shell) length and 84.2 cm curved carapace width\n",
      "ad True\n",
      "ad True\n"
     ]
    }
   ],
   "source": [
    "des(w)"
   ],
   "metadata": {
    "collapsed": false
   }
  },
  {
   "cell_type": "code",
   "execution_count": null,
   "outputs": [],
   "source": [],
   "metadata": {
    "collapsed": false
   }
  }
 ],
 "metadata": {
  "kernelspec": {
   "display_name": "Python 3",
   "language": "python",
   "name": "python3"
  },
  "language_info": {
   "codemirror_mode": {
    "name": "ipython",
    "version": 2
   },
   "file_extension": ".py",
   "mimetype": "text/x-python",
   "name": "python",
   "nbconvert_exporter": "python",
   "pygments_lexer": "ipython2",
   "version": "2.7.6"
  }
 },
 "nbformat": 4,
 "nbformat_minor": 0
}
