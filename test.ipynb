{
 "cells": [
  {
   "cell_type": "code",
   "execution_count": 1,
   "metadata": {
    "collapsed": true
   },
   "outputs": [],
   "source": [
    "from DowloadTurtles import DownloadTurtles"
   ]
  },
  {
   "cell_type": "code",
   "execution_count": 2,
   "outputs": [
    {
     "data": {
      "text/plain": "True"
     },
     "execution_count": 2,
     "metadata": {},
     "output_type": "execute_result"
    }
   ],
   "source": [
    "d = DownloadTurtles()\n",
    "d.download_all_turtles_info()"
   ],
   "metadata": {
    "collapsed": false
   }
  },
  {
   "cell_type": "code",
   "execution_count": 3,
   "outputs": [],
   "source": [
    "e = d.get_possible_turtles()"
   ],
   "metadata": {
    "collapsed": false
   }
  },
  {
   "cell_type": "code",
   "execution_count": 4,
   "outputs": [
    {
     "data": {
      "text/plain": "{1: 'Mojito',\n 2: 'Caroline',\n 3: 'Bortie',\n 4: 'Euphorbia',\n 5: 'Mr T',\n 6: 'Spongie',\n 7: 'Patches',\n 8: 'Phyllis',\n 9: 'Zabini',\n 10: 'Hope',\n 11: 'Tartleby',\n 12: 'Tamarind',\n 13: 'Freckles',\n 14: 'Miss Piggy',\n 15: 'Sandy',\n 16: 'Kermit',\n 17: 'Koa',\n 18: 'Gim',\n 19: 'Robin',\n 20: 'Leia',\n 21: 'Foxy',\n 22: 'Mandy',\n 23: 'Maisy',\n 24: 'Rainn',\n 25: 'Richard',\n 26: 'Guava',\n 27: 'Adele',\n 28: 'Lightning McQueen',\n 29: 'Groove',\n 30: 'Shelle',\n 31: 'Bubbles',\n 32: 'Crystal',\n 33: 'Mayorita',\n 34: 'Squirt',\n 35: 'Odessa',\n 36: 'Journey',\n 37: 'Paradise',\n 38: 'Coral',\n 39: 'Rapunzel',\n 40: 'Ian',\n 41: 'Ginger',\n 42: 'Belle',\n 43: 'Gayle',\n 44: 'Surina',\n 45: 'Jewel',\n 46: 'Timmy',\n 47: 'Norah',\n 48: 'Marley',\n 49: 'Cara',\n 50: 'Chubby',\n 51: 'Gioconda',\n 52: 'Nacha',\n 53: 'Rihanna',\n 54: 'Shakira',\n 55: 'Beyonce',\n 56: 'Alma',\n 57: 'Moruca',\n 58: 'Rosa',\n 59: 'Luria',\n 60: 'Shellie',\n 61: 'Asranti',\n 62: 'Tyari',\n 63: 'Esi',\n 64: 'Sekanti',\n 65: 'Karma',\n 66: 'Saila',\n 67: 'Calypso Blue',\n 68: 'Pearl',\n 69: 'Peach',\n 70: 'Lady Marmalade',\n 71: 'Pirate Patty',\n 72: 'Pinney',\n 73: 'Neve',\n 74: 'Vida',\n 75: 'Mayan',\n 76: 'Shelldon',\n 77: 'Fripper',\n 78: 'Yaele',\n 79: 'Mabuluwamon',\n 80: 'Uliwana',\n 81: 'Langamene',\n 82: 'Christianne',\n 83: 'Ga-Libi',\n 84: 'Albina',\n 85: 'Geronimo',\n 86: 'Amya',\n 87: 'Wori',\n 88: 'Wodi',\n 89: 'Sjone',\n 90: 'Hattes',\n 91: 'JuLo57',\n 92: 'Lea',\n 93: 'Marie',\n 94: 'Archie',\n 95: 'Catherine',\n 96: 'Tucker',\n 97: 'Skipper',\n 98: 'Flipper',\n 99: 'Jocelyn',\n 100: 'Sir William',\n 101: 'Lola',\n 102: 'Frankie',\n 103: 'Evie',\n 104: 'Mora',\n 105: 'Cruz',\n 106: 'Caribelle',\n 107: 'Banjo',\n 108: 'Claire',\n 109: 'Carrie',\n 110: 'Johnny',\n 111: 'Ripley',\n 112: 'Tampa Red',\n 113: 'Relay',\n 114: 'Venti Anni',\n 115: 'PATTY (UCF)',\n 116: 'Panama Jack',\n 117: 'Calypso Blue III',\n 118: 'Tort1',\n 119: 'Linda',\n 120: 'Dawn',\n 121: 'Mario',\n 122: 'Brian',\n 123: 'Janet',\n 124: 'Estrella',\n 125: 'Esperanza',\n 126: 'Coco',\n 127: 'Sugar',\n 128: 'Anna',\n 129: 'Elsa',\n 130: 'Shelley',\n 131: 'Melba',\n 132: 'Pine Tyme',\n 133: 'Kirsty',\n 134: 'Riffle',\n 135: 'Spare - Panama?',\n 136: 'Aaron',\n 137: 'Calypso Blue IV',\n 138: 'Insolites',\n 139: 'Cana',\n 140: 'Pawikan',\n 141: 'Tiki',\n 142: 'Susie Q',\n 143: 'Tinker Bell',\n 144: 'Marina',\n 145: 'Myrtle',\n 146: 'Dash',\n 147: 'Luna',\n 148: 'Millie',\n 149: 'Amie',\n 150: 'Boyd',\n 151: 'Doc',\n 152: 'Jim',\n 153: 'Peter',\n 154: 'Sea Venture',\n 155: 'Renaissance',\n 156: 'Ozzy',\n 157: 'Calypso Blue V',\n 158: 'Lady Aurelia',\n 159: 'Tortuga Turista',\n 160: 'Kreacher',\n 161: 'Fleming',\n 162: 'Esperanza',\n 163: 'Julia',\n 164: 'Pebbles',\n 165: 'Emma',\n 166: 'Sundrop',\n 167: 'Sylvia',\n 168: 'Bailey',\n 169: 'Destiny',\n 170: 'Leonora',\n 171: 'Turpac',\n 172: 'Hardy',\n 173: 'Aquarius',\n 174: 'Doppler',\n 175: 'Chief',\n 176: 'Iris',\n 177: 'Daisy',\n 178: 'Atamar',\n 179: 'Xeno',\n 180: 'Peanut',\n 181: 'Five-oh',\n 182: 'Soropta',\n 183: 'Soca',\n 184: 'Tortuga Turista II',\n 185: 'Marina',\n 186: 'Lincoln',\n 187: 'Mandalay II',\n 188: 'Eliza Ann',\n 189: 'Onda',\n 190: 'Tina',\n 191: 'Sanchez',\n 192: 'Tilly',\n 193: 'Argus',\n 194: 'Cruz',\n 195: 'Sally',\n 196: 'Odyssey',\n 197: 'Reefie',\n 198: 'Tartle',\n 199: 'Blitzen',\n 200: 'Angel',\n 201: 'Sheldon',\n 202: 'Kraken',\n 203: 'Lucaya',\n 204: 'Certina',\n 205: 'Dune',\n 206: 'Rebecca',\n 207: 'Walter',\n 208: 'Betsy',\n 209: 'Liberty',\n 210: 'Colada',\n 211: 'Kali',\n 212: 'Coco',\n 213: 'Little Money',\n 214: 'Trixie',\n 215: 'Mrs Potato Head',\n 216: 'Turtlette',\n 217: 'Bion',\n 218: 'Vida',\n 219: 'Crush (Cordelia)',\n 220: 'Stella',\n 221: 'Milly',\n 222: 'Bean',\n 223: 'Jubilee',\n 224: 'Soirée',\n 225: 'Bowser',\n 226: 'Buckbeak',\n 227: 'Kirby',\n 228: 'Ollivander',\n 229: 'Jujube',\n 230: 'Frankie',\n 231: 'Eve',\n 232: 'Shelly',\n 233: 'Merën',\n 234: 'Quantum',\n 235: 'Pluto',\n 236: 'Bortie Too',\n 237: 'Alejandra',\n 238: 'Rosalita',\n 239: 'St Thomas',\n 240: 'Ariel',\n 241: 'Lulu',\n 242: 'Ursula',\n 243: 'Sheldon',\n 244: 'Mei Mei',\n 245: 'Sage',\n 246: 'Bluff Beach',\n 247: 'Yertle',\n 248: 'Rafael',\n 249: 'Philanthropy Phyllis',\n 250: 'Yamato',\n 251: 'Jak',\n 252: 'Jessie',\n 253: 'Nevada',\n 254: 'Vesper',\n 255: 'Carrie',\n 256: 'Indigo',\n 257: 'TURQ',\n 258: 'Moxie',\n 259: 'Eunoia',\n 260: 'CUper-ina',\n 261: 'Mumu',\n 262: 'Coral',\n 263: 'Raya',\n 264: 'Barbra StreiSAND',\n 265: 'Olive',\n 266: 'Aukai',\n 267: 'Gim II',\n 268: 'Lucky Pulse',\n 269: 'Rose',\n 270: 'Oualie',\n 271: 'PopTart',\n 272: 'Whitney',\n 273: 'Epo',\n 274: 'Cassi',\n 275: 'FA REHAB 3',\n 276: 'Asparagus',\n 277: 'Marshell',\n 278: 'Mullet',\n 279: 'BERMUDA 1',\n 280: 'BERMUDA 2',\n 282: 'BiBi',\n 283: 'Truffle',\n 284: 'Palmer',\n 285: 'Pancake',\n 286: 'Fusa',\n 287: 'Monty',\n 288: 'Lady Jayne',\n 289: 'Donna',\n 290: 'Certinada',\n 291: 'Big Blue',\n 292: 'Super',\n 293: 'Cleo',\n 294: 'CUper-ina II',\n 295: 'Esther',\n 296: 'Timmy',\n 297: 'Megan Thee Turtle',\n 298: 'Troona',\n 299: 'Tortie',\n 300: 'Sid',\n 301: 'Papa',\n 302: 'Brownie',\n 303: 'Splash',\n 304: 'Neytiri',\n 305: 'Ronal',\n 306: 'Dobby',\n 307: 'Waffles',\n 308: 'Lizzy',\n 309: 'Sea Biscuit',\n 310: 'Seaweed',\n 311: 'Luna',\n 312: 'Keilar',\n 313: 'Quaver',\n 314: 'Pistachio',\n 315: 'Emerald',\n 316: 'Belle',\n 317: 'Harris',\n 318: 'Opal',\n 319: 'Dr Turtle',\n 320: 'Centennia',\n 321: 'Pedro PaSCALE',\n 322: 'Turtina',\n 323: 'Samana',\n 324: 'Kalan',\n 325: 'Tello - Sharpe',\n 326: 'Leo',\n 327: 'Moana',\n 328: 'Mikey - Xena',\n 329: 'Suzi',\n 330: 'Cheddah',\n 331: 'Kiwi',\n 332: 'Mamacita',\n 333: 'Marcia',\n 334: 'Tippi',\n 335: 'Cara',\n 336: 'Bella',\n 337: 'Dhebra',\n 338: 'Harriet',\n 339: 'Madame Leota',\n 340: 'Marigold Puddlefoot',\n 341: 'Kelpy',\n 342: 'Zee',\n 343: 'Drago',\n 344: 'RC',\n 345: 'Laguna',\n 346: 'Po kue',\n 347: 'Nilly',\n 348: 'Esperanza',\n 349: 'Pearl',\n 350: 'Peach',\n 351: 'Mery',\n 352: 'Buffett',\n 353: 'Caroline',\n 354: 'Tortellini',\n 355: 'Lady Jayne',\n 356: 'Seamore',\n 357: 'Scooby',\n 358: 'Esperanza',\n 359: 'Victory',\n 360: 'Reef Witherspoon',\n 361: 'Eclipse',\n 362: 'Donna Shello',\n 363: 'Rhiannon',\n 364: 'Henrietta',\n 365: 'Grana',\n 366: 'Gochujang',\n 367: 'Twinkle',\n 368: 'Sparkle',\n 369: 'Ebb',\n 370: 'Flo',\n 371: 'Shelby',\n 372: 'Roseleigh',\n 373: 'Gili',\n 374: 'RC',\n 375: 'Karma',\n 376: 'Otis',\n 377: 'Chiliguara',\n 378: 'Jupa',\n 379: 'Juanita',\n 380: 'Mai Tai',\n 381: 'Pesto',\n 382: 'Briar'}"
     },
     "execution_count": 4,
     "metadata": {},
     "output_type": "execute_result"
    }
   ],
   "source": [
    "e"
   ],
   "metadata": {
    "collapsed": false
   }
  },
  {
   "cell_type": "code",
   "execution_count": 5,
   "outputs": [],
   "source": [
    "df = d.test()"
   ],
   "metadata": {
    "collapsed": false
   }
  },
  {
   "cell_type": "code",
   "execution_count": 6,
   "outputs": [
    {
     "data": {
      "text/plain": "      id       name  category       species    last_move_datetime  \\\n0      1     Mojito         6     Hawksbill  2023-04-09T16:36:51Z   \n1      2   Caroline         4    Loggerhead  2023-07-05T07:49:09Z   \n2      3     Bortie         4    Loggerhead  2021-07-10T08:24:34Z   \n3      4  Euphorbia         4    Loggerhead  2021-08-12T07:51:58Z   \n4      5       Mr T         4    Loggerhead  2021-06-25T22:17:37Z   \n..   ...        ...       ...           ...                   ...   \n371  378       Jupa         3  Green turtle  2024-11-09T09:24:02Z   \n372  379    Juanita         3  Green turtle  2024-11-09T09:28:25Z   \n373  380    Mai Tai         3  Green turtle  2024-11-09T09:24:22Z   \n374  381      Pesto         3  Green turtle  2024-11-09T09:33:16Z   \n375  382      Briar         3  Green turtle  2024-11-09T12:45:10Z   \n\n    distance_from_release avg_speed_from_release  time_from_last_move  \\\n0              5468629.51                   0.11         5.013873e+07   \n1              7002241.24                   0.13         4.265359e+07   \n2              6761253.84                   0.25         1.052915e+08   \n3              5166936.18                   0.21         1.024422e+08   \n4              5392055.97                   0.29         1.065375e+08   \n..                    ...                    ...                  ...   \n371             713012.24                   0.67         5.270447e+04   \n372             795077.17                   0.75         5.244148e+04   \n373             612628.76                   0.58         5.268450e+04   \n374             678265.37                   0.64         5.215051e+04   \n375             865631.26                   0.82         4.063652e+04   \n\n     time_from_release  time_tracked  \\\n0            230990540     180851811   \n1            229798940     187145349   \n2            201805340      96513874   \n3            189028700      86586478   \n4            173979260      67441777   \n..                 ...           ...   \n371            3862886       3810182   \n372            3862886       3810445   \n373            3862886       3810202   \n374            3862886       3810736   \n375            3862886       3822250   \n\n                                           description  \\\n0    Mojito (aka Moji) is an adult hawksbill sea tu...   \n1    An adult female loggerhead sea turtle to be re...   \n2    Bortie is an adult female loggerhead sea turtl...   \n3    Euphorbia is an adult female loggerhead sea tu...   \n4    A magnificent adult male loggerhead sea turtle...   \n..                                                 ...   \n371  Jupa is an adult female green sea turtle relea...   \n372  Juanita is an adult female green sea turtle re...   \n373  Mai Tai is an adult female green sea turtle re...   \n374  An adult female green sea turtle released with...   \n375  Briar is an adult female green sea turtle rele...   \n\n                                               project  \\\n0    Eastern Caribbean Hawksbill Tracking & Conserv...   \n1     Tracking Loggerheads from the Archie Carr Refuge   \n2           Tracking Turtles from Florida's Gulf Coast   \n3            Rehabilitated Sea Turtle Tracking Project   \n4            Rehabilitated Sea Turtle Tracking Project   \n..                                                 ...   \n371             Tortuguero Sea Turtle Tracking Project   \n372             Tortuguero Sea Turtle Tracking Project   \n373             Tortuguero Sea Turtle Tracking Project   \n374             Tortuguero Sea Turtle Tracking Project   \n375             Tortuguero Sea Turtle Tracking Project   \n\n                                             biography  \n0    Is it time to race already?? **Yawn** Sorry I’...  \n1    Sweet Carolina, bah bah bah! Yup. That’s me. I...  \n2    Hi guys! My name is Bortie. I’m going to make ...  \n3                                                 None  \n4                                                 None  \n..                                                 ...  \n371                                               None  \n372                                               None  \n373                                               None  \n374                                               None  \n375                                               None  \n\n[376 rows x 13 columns]",
      "text/html": "<div>\n<style scoped>\n    .dataframe tbody tr th:only-of-type {\n        vertical-align: middle;\n    }\n\n    .dataframe tbody tr th {\n        vertical-align: top;\n    }\n\n    .dataframe thead th {\n        text-align: right;\n    }\n</style>\n<table border=\"1\" class=\"dataframe\">\n  <thead>\n    <tr style=\"text-align: right;\">\n      <th></th>\n      <th>id</th>\n      <th>name</th>\n      <th>category</th>\n      <th>species</th>\n      <th>last_move_datetime</th>\n      <th>distance_from_release</th>\n      <th>avg_speed_from_release</th>\n      <th>time_from_last_move</th>\n      <th>time_from_release</th>\n      <th>time_tracked</th>\n      <th>description</th>\n      <th>project</th>\n      <th>biography</th>\n    </tr>\n  </thead>\n  <tbody>\n    <tr>\n      <th>0</th>\n      <td>1</td>\n      <td>Mojito</td>\n      <td>6</td>\n      <td>Hawksbill</td>\n      <td>2023-04-09T16:36:51Z</td>\n      <td>5468629.51</td>\n      <td>0.11</td>\n      <td>5.013873e+07</td>\n      <td>230990540</td>\n      <td>180851811</td>\n      <td>Mojito (aka Moji) is an adult hawksbill sea tu...</td>\n      <td>Eastern Caribbean Hawksbill Tracking &amp; Conserv...</td>\n      <td>Is it time to race already?? **Yawn** Sorry I’...</td>\n    </tr>\n    <tr>\n      <th>1</th>\n      <td>2</td>\n      <td>Caroline</td>\n      <td>4</td>\n      <td>Loggerhead</td>\n      <td>2023-07-05T07:49:09Z</td>\n      <td>7002241.24</td>\n      <td>0.13</td>\n      <td>4.265359e+07</td>\n      <td>229798940</td>\n      <td>187145349</td>\n      <td>An adult female loggerhead sea turtle to be re...</td>\n      <td>Tracking Loggerheads from the Archie Carr Refuge</td>\n      <td>Sweet Carolina, bah bah bah! Yup. That’s me. I...</td>\n    </tr>\n    <tr>\n      <th>2</th>\n      <td>3</td>\n      <td>Bortie</td>\n      <td>4</td>\n      <td>Loggerhead</td>\n      <td>2021-07-10T08:24:34Z</td>\n      <td>6761253.84</td>\n      <td>0.25</td>\n      <td>1.052915e+08</td>\n      <td>201805340</td>\n      <td>96513874</td>\n      <td>Bortie is an adult female loggerhead sea turtl...</td>\n      <td>Tracking Turtles from Florida's Gulf Coast</td>\n      <td>Hi guys! My name is Bortie. I’m going to make ...</td>\n    </tr>\n    <tr>\n      <th>3</th>\n      <td>4</td>\n      <td>Euphorbia</td>\n      <td>4</td>\n      <td>Loggerhead</td>\n      <td>2021-08-12T07:51:58Z</td>\n      <td>5166936.18</td>\n      <td>0.21</td>\n      <td>1.024422e+08</td>\n      <td>189028700</td>\n      <td>86586478</td>\n      <td>Euphorbia is an adult female loggerhead sea tu...</td>\n      <td>Rehabilitated Sea Turtle Tracking Project</td>\n      <td>None</td>\n    </tr>\n    <tr>\n      <th>4</th>\n      <td>5</td>\n      <td>Mr T</td>\n      <td>4</td>\n      <td>Loggerhead</td>\n      <td>2021-06-25T22:17:37Z</td>\n      <td>5392055.97</td>\n      <td>0.29</td>\n      <td>1.065375e+08</td>\n      <td>173979260</td>\n      <td>67441777</td>\n      <td>A magnificent adult male loggerhead sea turtle...</td>\n      <td>Rehabilitated Sea Turtle Tracking Project</td>\n      <td>None</td>\n    </tr>\n    <tr>\n      <th>...</th>\n      <td>...</td>\n      <td>...</td>\n      <td>...</td>\n      <td>...</td>\n      <td>...</td>\n      <td>...</td>\n      <td>...</td>\n      <td>...</td>\n      <td>...</td>\n      <td>...</td>\n      <td>...</td>\n      <td>...</td>\n      <td>...</td>\n    </tr>\n    <tr>\n      <th>371</th>\n      <td>378</td>\n      <td>Jupa</td>\n      <td>3</td>\n      <td>Green turtle</td>\n      <td>2024-11-09T09:24:02Z</td>\n      <td>713012.24</td>\n      <td>0.67</td>\n      <td>5.270447e+04</td>\n      <td>3862886</td>\n      <td>3810182</td>\n      <td>Jupa is an adult female green sea turtle relea...</td>\n      <td>Tortuguero Sea Turtle Tracking Project</td>\n      <td>None</td>\n    </tr>\n    <tr>\n      <th>372</th>\n      <td>379</td>\n      <td>Juanita</td>\n      <td>3</td>\n      <td>Green turtle</td>\n      <td>2024-11-09T09:28:25Z</td>\n      <td>795077.17</td>\n      <td>0.75</td>\n      <td>5.244148e+04</td>\n      <td>3862886</td>\n      <td>3810445</td>\n      <td>Juanita is an adult female green sea turtle re...</td>\n      <td>Tortuguero Sea Turtle Tracking Project</td>\n      <td>None</td>\n    </tr>\n    <tr>\n      <th>373</th>\n      <td>380</td>\n      <td>Mai Tai</td>\n      <td>3</td>\n      <td>Green turtle</td>\n      <td>2024-11-09T09:24:22Z</td>\n      <td>612628.76</td>\n      <td>0.58</td>\n      <td>5.268450e+04</td>\n      <td>3862886</td>\n      <td>3810202</td>\n      <td>Mai Tai is an adult female green sea turtle re...</td>\n      <td>Tortuguero Sea Turtle Tracking Project</td>\n      <td>None</td>\n    </tr>\n    <tr>\n      <th>374</th>\n      <td>381</td>\n      <td>Pesto</td>\n      <td>3</td>\n      <td>Green turtle</td>\n      <td>2024-11-09T09:33:16Z</td>\n      <td>678265.37</td>\n      <td>0.64</td>\n      <td>5.215051e+04</td>\n      <td>3862886</td>\n      <td>3810736</td>\n      <td>An adult female green sea turtle released with...</td>\n      <td>Tortuguero Sea Turtle Tracking Project</td>\n      <td>None</td>\n    </tr>\n    <tr>\n      <th>375</th>\n      <td>382</td>\n      <td>Briar</td>\n      <td>3</td>\n      <td>Green turtle</td>\n      <td>2024-11-09T12:45:10Z</td>\n      <td>865631.26</td>\n      <td>0.82</td>\n      <td>4.063652e+04</td>\n      <td>3862886</td>\n      <td>3822250</td>\n      <td>Briar is an adult female green sea turtle rele...</td>\n      <td>Tortuguero Sea Turtle Tracking Project</td>\n      <td>None</td>\n    </tr>\n  </tbody>\n</table>\n<p>376 rows × 13 columns</p>\n</div>"
     },
     "execution_count": 6,
     "metadata": {},
     "output_type": "execute_result"
    }
   ],
   "source": [
    "df"
   ],
   "metadata": {
    "collapsed": false
   }
  },
  {
   "cell_type": "code",
   "execution_count": null,
   "outputs": [],
   "source": [],
   "metadata": {
    "collapsed": false
   }
  }
 ],
 "metadata": {
  "kernelspec": {
   "display_name": "Python 3",
   "language": "python",
   "name": "python3"
  },
  "language_info": {
   "codemirror_mode": {
    "name": "ipython",
    "version": 2
   },
   "file_extension": ".py",
   "mimetype": "text/x-python",
   "name": "python",
   "nbconvert_exporter": "python",
   "pygments_lexer": "ipython2",
   "version": "2.7.6"
  }
 },
 "nbformat": 4,
 "nbformat_minor": 0
}
